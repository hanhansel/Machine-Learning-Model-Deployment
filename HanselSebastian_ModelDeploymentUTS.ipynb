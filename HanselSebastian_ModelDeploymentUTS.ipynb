{
 "cells": [
  {
   "cell_type": "code",
   "execution_count": 1,
   "id": "e16d83ea-de2f-404b-abab-026270c02951",
   "metadata": {},
   "outputs": [],
   "source": [
    "import pandas as pd\n",
    "import numpy as np\n",
    "import matplotlib.pyplot as plt\n",
    "import sklearn \n",
    "from sklearn.model_selection import train_test_split\n",
    "from sklearn.ensemble import RandomForestClassifier\n",
    "import warnings\n",
    "from sklearn.model_selection import train_test_split\n",
    "from sklearn.preprocessing import OneHotEncoder, LabelEncoder\n",
    "from sklearn.ensemble import RandomForestClassifier\n",
    "from xgboost import XGBClassifier\n",
    "from sklearn.metrics import accuracy_score, classification_report, confusion_matrix\n",
    "import pickle"
   ]
  },
  {
   "cell_type": "markdown",
   "id": "a3af722f-d0fb-4666-8aaa-6054f91f8394",
   "metadata": {},
   "source": [
    "1. Buatlah model machine learning yang berisi proses pre-processing machine\n",
    "learning, training, dan hasil dari perbadingan 2 algoritma machine learning yaitu Random Forest dan\n",
    "Xgboost. Ambil algoritma terbaik dan simpan dengan menggunakan pickle. Seluruh proses disimpan\n",
    "dengan extension .ipynb\n"
   ]
  },
  {
   "cell_type": "code",
   "execution_count": 2,
   "id": "5aca2d92-e11d-4be9-8c0a-054ac0109132",
   "metadata": {},
   "outputs": [
    {
     "data": {
      "text/html": [
       "<div>\n",
       "<style scoped>\n",
       "    .dataframe tbody tr th:only-of-type {\n",
       "        vertical-align: middle;\n",
       "    }\n",
       "\n",
       "    .dataframe tbody tr th {\n",
       "        vertical-align: top;\n",
       "    }\n",
       "\n",
       "    .dataframe thead th {\n",
       "        text-align: right;\n",
       "    }\n",
       "</style>\n",
       "<table border=\"1\" class=\"dataframe\">\n",
       "  <thead>\n",
       "    <tr style=\"text-align: right;\">\n",
       "      <th></th>\n",
       "      <th>Booking_ID</th>\n",
       "      <th>no_of_adults</th>\n",
       "      <th>no_of_children</th>\n",
       "      <th>no_of_weekend_nights</th>\n",
       "      <th>no_of_week_nights</th>\n",
       "      <th>type_of_meal_plan</th>\n",
       "      <th>required_car_parking_space</th>\n",
       "      <th>room_type_reserved</th>\n",
       "      <th>lead_time</th>\n",
       "      <th>arrival_year</th>\n",
       "      <th>arrival_month</th>\n",
       "      <th>arrival_date</th>\n",
       "      <th>market_segment_type</th>\n",
       "      <th>repeated_guest</th>\n",
       "      <th>no_of_previous_cancellations</th>\n",
       "      <th>no_of_previous_bookings_not_canceled</th>\n",
       "      <th>avg_price_per_room</th>\n",
       "      <th>no_of_special_requests</th>\n",
       "      <th>booking_status</th>\n",
       "    </tr>\n",
       "  </thead>\n",
       "  <tbody>\n",
       "    <tr>\n",
       "      <th>0</th>\n",
       "      <td>INN00001</td>\n",
       "      <td>2</td>\n",
       "      <td>0</td>\n",
       "      <td>1</td>\n",
       "      <td>2</td>\n",
       "      <td>Meal Plan 1</td>\n",
       "      <td>0.0</td>\n",
       "      <td>Room_Type 1</td>\n",
       "      <td>224</td>\n",
       "      <td>2017</td>\n",
       "      <td>10</td>\n",
       "      <td>2</td>\n",
       "      <td>Offline</td>\n",
       "      <td>0</td>\n",
       "      <td>0</td>\n",
       "      <td>0</td>\n",
       "      <td>65.00</td>\n",
       "      <td>0</td>\n",
       "      <td>Not_Canceled</td>\n",
       "    </tr>\n",
       "    <tr>\n",
       "      <th>1</th>\n",
       "      <td>INN00002</td>\n",
       "      <td>2</td>\n",
       "      <td>0</td>\n",
       "      <td>2</td>\n",
       "      <td>3</td>\n",
       "      <td>Not Selected</td>\n",
       "      <td>0.0</td>\n",
       "      <td>Room_Type 1</td>\n",
       "      <td>5</td>\n",
       "      <td>2018</td>\n",
       "      <td>11</td>\n",
       "      <td>6</td>\n",
       "      <td>Online</td>\n",
       "      <td>0</td>\n",
       "      <td>0</td>\n",
       "      <td>0</td>\n",
       "      <td>106.68</td>\n",
       "      <td>1</td>\n",
       "      <td>Not_Canceled</td>\n",
       "    </tr>\n",
       "    <tr>\n",
       "      <th>2</th>\n",
       "      <td>INN00003</td>\n",
       "      <td>1</td>\n",
       "      <td>0</td>\n",
       "      <td>2</td>\n",
       "      <td>1</td>\n",
       "      <td>Meal Plan 1</td>\n",
       "      <td>0.0</td>\n",
       "      <td>Room_Type 1</td>\n",
       "      <td>1</td>\n",
       "      <td>2018</td>\n",
       "      <td>2</td>\n",
       "      <td>28</td>\n",
       "      <td>Online</td>\n",
       "      <td>0</td>\n",
       "      <td>0</td>\n",
       "      <td>0</td>\n",
       "      <td>60.00</td>\n",
       "      <td>0</td>\n",
       "      <td>Canceled</td>\n",
       "    </tr>\n",
       "    <tr>\n",
       "      <th>3</th>\n",
       "      <td>INN00004</td>\n",
       "      <td>2</td>\n",
       "      <td>0</td>\n",
       "      <td>0</td>\n",
       "      <td>2</td>\n",
       "      <td>Meal Plan 1</td>\n",
       "      <td>0.0</td>\n",
       "      <td>Room_Type 1</td>\n",
       "      <td>211</td>\n",
       "      <td>2018</td>\n",
       "      <td>5</td>\n",
       "      <td>20</td>\n",
       "      <td>Online</td>\n",
       "      <td>0</td>\n",
       "      <td>0</td>\n",
       "      <td>0</td>\n",
       "      <td>100.00</td>\n",
       "      <td>0</td>\n",
       "      <td>Canceled</td>\n",
       "    </tr>\n",
       "    <tr>\n",
       "      <th>4</th>\n",
       "      <td>INN00005</td>\n",
       "      <td>2</td>\n",
       "      <td>0</td>\n",
       "      <td>1</td>\n",
       "      <td>1</td>\n",
       "      <td>Not Selected</td>\n",
       "      <td>0.0</td>\n",
       "      <td>Room_Type 1</td>\n",
       "      <td>48</td>\n",
       "      <td>2018</td>\n",
       "      <td>4</td>\n",
       "      <td>11</td>\n",
       "      <td>Online</td>\n",
       "      <td>0</td>\n",
       "      <td>0</td>\n",
       "      <td>0</td>\n",
       "      <td>94.50</td>\n",
       "      <td>0</td>\n",
       "      <td>Canceled</td>\n",
       "    </tr>\n",
       "  </tbody>\n",
       "</table>\n",
       "</div>"
      ],
      "text/plain": [
       "  Booking_ID  no_of_adults  no_of_children  no_of_weekend_nights  \\\n",
       "0   INN00001             2               0                     1   \n",
       "1   INN00002             2               0                     2   \n",
       "2   INN00003             1               0                     2   \n",
       "3   INN00004             2               0                     0   \n",
       "4   INN00005             2               0                     1   \n",
       "\n",
       "   no_of_week_nights type_of_meal_plan  required_car_parking_space  \\\n",
       "0                  2       Meal Plan 1                         0.0   \n",
       "1                  3      Not Selected                         0.0   \n",
       "2                  1       Meal Plan 1                         0.0   \n",
       "3                  2       Meal Plan 1                         0.0   \n",
       "4                  1      Not Selected                         0.0   \n",
       "\n",
       "  room_type_reserved  lead_time  arrival_year  arrival_month  arrival_date  \\\n",
       "0        Room_Type 1        224          2017             10             2   \n",
       "1        Room_Type 1          5          2018             11             6   \n",
       "2        Room_Type 1          1          2018              2            28   \n",
       "3        Room_Type 1        211          2018              5            20   \n",
       "4        Room_Type 1         48          2018              4            11   \n",
       "\n",
       "  market_segment_type  repeated_guest  no_of_previous_cancellations  \\\n",
       "0             Offline               0                             0   \n",
       "1              Online               0                             0   \n",
       "2              Online               0                             0   \n",
       "3              Online               0                             0   \n",
       "4              Online               0                             0   \n",
       "\n",
       "   no_of_previous_bookings_not_canceled  avg_price_per_room  \\\n",
       "0                                     0               65.00   \n",
       "1                                     0              106.68   \n",
       "2                                     0               60.00   \n",
       "3                                     0              100.00   \n",
       "4                                     0               94.50   \n",
       "\n",
       "   no_of_special_requests booking_status  \n",
       "0                       0   Not_Canceled  \n",
       "1                       1   Not_Canceled  \n",
       "2                       0       Canceled  \n",
       "3                       0       Canceled  \n",
       "4                       0       Canceled  "
      ]
     },
     "execution_count": 2,
     "metadata": {},
     "output_type": "execute_result"
    }
   ],
   "source": [
    "data = pd.read_csv(\"Datasets/UTS_Ml/Dataset_B_hotel.csv\")\n",
    "data.head()"
   ]
  },
  {
   "cell_type": "code",
   "execution_count": 3,
   "id": "7fcec62c-1d38-4bae-825c-7ecbf972edb5",
   "metadata": {},
   "outputs": [
    {
     "name": "stdout",
     "output_type": "stream",
     "text": [
      "<class 'pandas.core.frame.DataFrame'>\n",
      "RangeIndex: 36275 entries, 0 to 36274\n",
      "Data columns (total 19 columns):\n",
      " #   Column                                Non-Null Count  Dtype  \n",
      "---  ------                                --------------  -----  \n",
      " 0   Booking_ID                            36275 non-null  object \n",
      " 1   no_of_adults                          36275 non-null  int64  \n",
      " 2   no_of_children                        36275 non-null  int64  \n",
      " 3   no_of_weekend_nights                  36275 non-null  int64  \n",
      " 4   no_of_week_nights                     36275 non-null  int64  \n",
      " 5   type_of_meal_plan                     35368 non-null  object \n",
      " 6   required_car_parking_space            35005 non-null  float64\n",
      " 7   room_type_reserved                    36275 non-null  object \n",
      " 8   lead_time                             36275 non-null  int64  \n",
      " 9   arrival_year                          36275 non-null  int64  \n",
      " 10  arrival_month                         36275 non-null  int64  \n",
      " 11  arrival_date                          36275 non-null  int64  \n",
      " 12  market_segment_type                   36275 non-null  object \n",
      " 13  repeated_guest                        36275 non-null  int64  \n",
      " 14  no_of_previous_cancellations          36275 non-null  int64  \n",
      " 15  no_of_previous_bookings_not_canceled  36275 non-null  int64  \n",
      " 16  avg_price_per_room                    34643 non-null  float64\n",
      " 17  no_of_special_requests                36275 non-null  int64  \n",
      " 18  booking_status                        36275 non-null  object \n",
      "dtypes: float64(2), int64(12), object(5)\n",
      "memory usage: 5.3+ MB\n"
     ]
    }
   ],
   "source": [
    "data.info()"
   ]
  },
  {
   "cell_type": "code",
   "execution_count": 4,
   "id": "8466a889-f513-4909-9ce4-3a4b8705b2d4",
   "metadata": {},
   "outputs": [
    {
     "name": "stdout",
     "output_type": "stream",
     "text": [
      "Booking_ID                              \t0\t\t\t0.00%\n",
      "no_of_adults                            \t0\t\t\t0.00%\n",
      "no_of_children                          \t0\t\t\t0.00%\n",
      "no_of_weekend_nights                    \t0\t\t\t0.00%\n",
      "no_of_week_nights                       \t0\t\t\t0.00%\n",
      "type_of_meal_plan                       \t907\t\t\t2.50%\n",
      "required_car_parking_space              \t1270\t\t\t3.50%\n",
      "room_type_reserved                      \t0\t\t\t0.00%\n",
      "lead_time                               \t0\t\t\t0.00%\n",
      "arrival_year                            \t0\t\t\t0.00%\n",
      "arrival_month                           \t0\t\t\t0.00%\n",
      "arrival_date                            \t0\t\t\t0.00%\n",
      "market_segment_type                     \t0\t\t\t0.00%\n",
      "repeated_guest                          \t0\t\t\t0.00%\n",
      "no_of_previous_cancellations            \t0\t\t\t0.00%\n",
      "no_of_previous_bookings_not_canceled    \t0\t\t\t0.00%\n",
      "avg_price_per_room                      \t1632\t\t\t4.50%\n",
      "no_of_special_requests                  \t0\t\t\t0.00%\n",
      "booking_status                          \t0\t\t\t0.00%\n"
     ]
    }
   ],
   "source": [
    "for col in data.columns:\n",
    "    null_count = data[col].isnull().sum()\n",
    "    null_percentage = (null_count / len(data)) * 100\n",
    "    print(f\"{col.ljust(40)}\\t{null_count}\\t\\t\\t{null_percentage:.2f}%\")"
   ]
  },
  {
   "cell_type": "markdown",
   "id": "e7860336-2044-4da8-a3d6-41767f15a48a",
   "metadata": {},
   "source": [
    "Note: Since all of the NULL values are <5%, we will impute them all accordingly"
   ]
  },
  {
   "cell_type": "code",
   "execution_count": 5,
   "id": "8bee559b-bf4c-48f8-b0d9-a8c70908094c",
   "metadata": {},
   "outputs": [],
   "source": [
    "data['type_of_meal_plan'] = data['type_of_meal_plan'].fillna(data['type_of_meal_plan'].mode()[0])"
   ]
  },
  {
   "cell_type": "code",
   "execution_count": 6,
   "id": "40343b58-e129-4be7-8a42-29e035cba10c",
   "metadata": {},
   "outputs": [
    {
     "data": {
      "image/png": "[encoded data removed]",
      "text/plain": [
       "<Figure size 600x400 with 1 Axes>"
      ]
     },
     "metadata": {},
     "output_type": "display_data"
    }
   ],
   "source": [
    "required_car_parking_space_clean = data['required_car_parking_space'].dropna()\n",
    "\n",
    "plt.figure(figsize=(6, 4))\n",
    "plt.boxplot(required_car_parking_space_clean)\n",
    "plt.title('required_car_parking_space Distribution')\n",
    "plt.ylabel('required_car_parking_space')\n",
    "plt.show()"
   ]
  },
  {
   "cell_type": "code",
   "execution_count": 7,
   "id": "0ed5ca0c-6947-4ef6-b12e-936c1aad52ab",
   "metadata": {},
   "outputs": [
    {
     "data": {
      "image/png": "[encoded data removed]",
      "text/plain": [
       "<Figure size 600x400 with 1 Axes>"
      ]
     },
     "metadata": {},
     "output_type": "display_data"
    }
   ],
   "source": [
    "avg_price_per_room_clean = data['avg_price_per_room'].dropna()\n",
    "\n",
    "plt.figure(figsize=(6, 4))\n",
    "plt.boxplot(avg_price_per_room_clean)\n",
    "plt.title('avg_price_per_room Distribution')\n",
    "plt.ylabel('avg_price_per_room')\n",
    "plt.show()"
   ]
  },
  {
   "cell_type": "markdown",
   "id": "a7e04c3f-b93e-4ce1-938a-5d92b194500c",
   "metadata": {},
   "source": [
    "Note: Since both avg_price_per_room and required_car_parking_space columns are skewed, we are going to impute it using the median of the column"
   ]
  },
  {
   "cell_type": "code",
   "execution_count": 8,
   "id": "4cc650c4-71e8-4acb-a052-6a550f7442dd",
   "metadata": {},
   "outputs": [],
   "source": [
    "avg_price_per_room_median = data['avg_price_per_room'].median()\n",
    "data['avg_price_per_room'] = data['avg_price_per_room'].fillna(avg_price_per_room_median)\n",
    "\n",
    "required_car_parking_space_median = data['required_car_parking_space'].median()\n",
    "data['required_car_parking_space'] = data['required_car_parking_space'].fillna(required_car_parking_space_median)"
   ]
  },
  {
   "cell_type": "markdown",
   "id": "02286529-a09e-42c8-a8d5-a44a910679bc",
   "metadata": {},
   "source": [
    "Note: Final Check for the NULL values"
   ]
  },
  {
   "cell_type": "code",
   "execution_count": 9,
   "id": "c7b836f0-9040-4931-a2d4-670fbb414164",
   "metadata": {},
   "outputs": [
    {
     "name": "stdout",
     "output_type": "stream",
     "text": [
      "Booking_ID                              \t0\t\t\t0.00%\n",
      "no_of_adults                            \t0\t\t\t0.00%\n",
      "no_of_children                          \t0\t\t\t0.00%\n",
      "no_of_weekend_nights                    \t0\t\t\t0.00%\n",
      "no_of_week_nights                       \t0\t\t\t0.00%\n",
      "type_of_meal_plan                       \t0\t\t\t0.00%\n",
      "required_car_parking_space              \t0\t\t\t0.00%\n",
      "room_type_reserved                      \t0\t\t\t0.00%\n",
      "lead_time                               \t0\t\t\t0.00%\n",
      "arrival_year                            \t0\t\t\t0.00%\n",
      "arrival_month                           \t0\t\t\t0.00%\n",
      "arrival_date                            \t0\t\t\t0.00%\n",
      "market_segment_type                     \t0\t\t\t0.00%\n",
      "repeated_guest                          \t0\t\t\t0.00%\n",
      "no_of_previous_cancellations            \t0\t\t\t0.00%\n",
      "no_of_previous_bookings_not_canceled    \t0\t\t\t0.00%\n",
      "avg_price_per_room                      \t0\t\t\t0.00%\n",
      "no_of_special_requests                  \t0\t\t\t0.00%\n",
      "booking_status                          \t0\t\t\t0.00%\n"
     ]
    }
   ],
   "source": [
    "for col in data.columns:\n",
    "    null_count = data[col].isnull().sum()\n",
    "    null_percentage = (null_count / len(data)) * 100\n",
    "    print(f\"{col.ljust(40)}\\t{null_count}\\t\\t\\t{null_percentage:.2f}%\")"
   ]
  },
  {
   "cell_type": "code",
   "execution_count": 10,
   "id": "53915a4a-3b46-41e9-a7b8-ac500d9ec9bf",
   "metadata": {},
   "outputs": [
    {
     "name": "stdout",
     "output_type": "stream",
     "text": [
      "['no_of_adults', 'no_of_children', 'no_of_weekend_nights', 'no_of_week_nights', 'required_car_parking_space', 'lead_time', 'arrival_year', 'arrival_month', 'arrival_date', 'repeated_guest', 'no_of_previous_cancellations', 'no_of_previous_bookings_not_canceled', 'avg_price_per_room', 'no_of_special_requests']\n",
      "['Booking_ID', 'type_of_meal_plan', 'room_type_reserved', 'market_segment_type', 'booking_status']\n"
     ]
    }
   ],
   "source": [
    "num_cols = []\n",
    "cat_cols = []\n",
    "\n",
    "for i in data.columns:\n",
    "    if data[i].dtype == 'object':\n",
    "        cat_cols.append(i)\n",
    "    elif \"int\" in str(data[i].dtype) or \"float\" in str(data[i].dtype):\n",
    "        num_cols.append(i)\n",
    "        \n",
    "print(num_cols)\n",
    "print(cat_cols)"
   ]
  },
  {
   "cell_type": "markdown",
   "id": "ec6a21a5-8770-47d2-b1d0-e3e7864db941",
   "metadata": {},
   "source": [
    "Note: Splitting Data but skipping the BookingID since its just an identifier aswell as Encoding + LabelEncoder"
   ]
  },
  {
   "cell_type": "code",
   "execution_count": 11,
   "id": "27e2754a-9c30-4677-aa7a-3cab6530a5e0",
   "metadata": {},
   "outputs": [
    {
     "name": "stdout",
     "output_type": "stream",
     "text": [
      "['Canceled' 'Not_Canceled']\n"
     ]
    }
   ],
   "source": [
    "X = data.drop(columns=['Booking_ID', 'booking_status'])\n",
    "y = data['booking_status']\n",
    "X_train, X_test, y_train, y_test = train_test_split(X, y, test_size=0.2, random_state=42)\n",
    "\n",
    "\n",
    "categorical_cols = ['type_of_meal_plan', 'room_type_reserved', 'market_segment_type']\n",
    "numerical_cols = X_train.drop(columns=categorical_cols).columns \n",
    "\n",
    "ohe = OneHotEncoder(handle_unknown='ignore', sparse_output=False)\n",
    "X_train_cat = ohe.fit_transform(X_train[categorical_cols])\n",
    "X_test_cat = ohe.transform(X_test[categorical_cols])\n",
    "\n",
    "X_train_num = X_train[numerical_cols].to_numpy()\n",
    "X_test_num = X_test[numerical_cols].to_numpy()\n",
    "X_train_combined = np.hstack((X_train_num, X_train_cat))\n",
    "X_test_combined = np.hstack((X_test_num, X_test_cat))\n",
    "\n",
    "le = LabelEncoder()\n",
    "y_train_encoded = le.fit_transform(y_train)\n",
    "y_test_encoded = le.transform(y_test)\n",
    "print(le.classes_)"
   ]
  },
  {
   "cell_type": "markdown",
   "id": "423a2215-249b-462b-bd90-e0c071ad87bd",
   "metadata": {},
   "source": [
    "Note: Label Encoding for Y (target variable) since its categorical and we'll transform canceled and not_canceled into 0 and 1, while we use one hot encoding for the features since we have values like Meal Plan 1 and Meal Plan 2 and we dont want to mislead the model into thinking that there is an ordinal relationship between"
   ]
  },
  {
   "cell_type": "markdown",
   "id": "67a45d09-f2db-4795-b7f5-205adf338259",
   "metadata": {},
   "source": [
    "Note: Training Random Forest"
   ]
  },
  {
   "cell_type": "code",
   "execution_count": 12,
   "id": "1530978f-7919-44fd-9293-95cc00b3a540",
   "metadata": {},
   "outputs": [],
   "source": [
    "rf = RandomForestClassifier(random_state=42)\n",
    "rf.fit(X_train_combined, y_train_encoded)\n",
    "y_pred_rf = rf.predict(X_test_combined)"
   ]
  },
  {
   "cell_type": "markdown",
   "id": "a7fcc216-c31d-4657-b240-4c8fdc8c9075",
   "metadata": {},
   "source": [
    "Note: Training XgBoost"
   ]
  },
  {
   "cell_type": "code",
   "execution_count": 13,
   "id": "3d4cdc72-79ca-4667-b30b-239b5c9a7f12",
   "metadata": {},
   "outputs": [],
   "source": [
    "xgb = XGBClassifier(eval_metric='logloss', random_state=42)\n",
    "xgb.fit(X_train_combined, y_train_encoded)\n",
    "y_pred_xgb = xgb.predict(X_test_combined)"
   ]
  },
  {
   "cell_type": "code",
   "execution_count": 14,
   "id": "b250712c-124a-4a99-94b7-031bc45e6452",
   "metadata": {},
   "outputs": [
    {
     "name": "stdout",
     "output_type": "stream",
     "text": [
      "Random Forest Results:\n",
      "Accuracy: 90.1722949689869\n",
      "Classification Report:\n",
      "               precision    recall  f1-score   support\n",
      "\n",
      "           0       0.88      0.82      0.85      2416\n",
      "           1       0.91      0.94      0.93      4839\n",
      "\n",
      "    accuracy                           0.90      7255\n",
      "   macro avg       0.90      0.88      0.89      7255\n",
      "weighted avg       0.90      0.90      0.90      7255\n",
      "\n",
      "\n",
      "\n",
      "XGBoost Results:\n",
      "Accuracy: 88.94555478980014\n",
      "Classification Report:\n",
      "               precision    recall  f1-score   support\n",
      "\n",
      "           0       0.86      0.79      0.83      2416\n",
      "           1       0.90      0.94      0.92      4839\n",
      "\n",
      "    accuracy                           0.89      7255\n",
      "   macro avg       0.88      0.87      0.87      7255\n",
      "weighted avg       0.89      0.89      0.89      7255\n",
      "\n"
     ]
    }
   ],
   "source": [
    "print(\"Random Forest Results:\")\n",
    "print(\"Accuracy:\", (accuracy_score(y_test_encoded, y_pred_rf))*100)\n",
    "print(\"Classification Report:\\n\", classification_report(y_test_encoded, y_pred_rf))\n",
    "\n",
    "print(\"\\n\\nXGBoost Results:\")\n",
    "print(\"Accuracy:\", (accuracy_score(y_test_encoded, y_pred_xgb))*100)\n",
    "print(\"Classification Report:\\n\", classification_report(y_test_encoded, y_pred_xgb))"
   ]
  },
  {
   "cell_type": "code",
   "execution_count": 15,
   "id": "510f8431-b92f-487d-88de-08a743c79781",
   "metadata": {},
   "outputs": [
    {
     "name": "stdout",
     "output_type": "stream",
     "text": [
      "[XGBoost - Training Set]\n",
      "Accuracy: 91.84011026878015\n",
      "Classification Report:\n",
      "               precision    recall  f1-score   support\n",
      "\n",
      "           0       0.90      0.84      0.87      9469\n",
      "           1       0.93      0.96      0.94     19551\n",
      "\n",
      "    accuracy                           0.92     29020\n",
      "   macro avg       0.91      0.90      0.91     29020\n",
      "weighted avg       0.92      0.92      0.92     29020\n",
      "\n",
      "\n",
      "[XGBoost - Test Set]\n",
      "Accuracy: 88.94555478980014\n",
      "Classification Report:\n",
      "               precision    recall  f1-score   support\n",
      "\n",
      "           0       0.86      0.79      0.83      2416\n",
      "           1       0.90      0.94      0.92      4839\n",
      "\n",
      "    accuracy                           0.89      7255\n",
      "   macro avg       0.88      0.87      0.87      7255\n",
      "weighted avg       0.89      0.89      0.89      7255\n",
      "\n"
     ]
    }
   ],
   "source": [
    "from sklearn.metrics import accuracy_score, classification_report\n",
    "\n",
    "# Training predictions\n",
    "y_pred_train_xgb = xgb.predict(X_train_combined)\n",
    "\n",
    "# Testing predictions\n",
    "y_pred_test_xgb = xgb.predict(X_test_combined)\n",
    "\n",
    "# Evaluation on training set\n",
    "print(\"[XGBoost - Training Set]\")\n",
    "print(\"Accuracy:\", accuracy_score(y_train_encoded, y_pred_train_xgb) * 100)\n",
    "print(\"Classification Report:\\n\", classification_report(y_train_encoded, y_pred_train_xgb))\n",
    "\n",
    "# Evaluation on testing set\n",
    "print(\"\\n[XGBoost - Test Set]\")\n",
    "print(\"Accuracy:\", accuracy_score(y_test_encoded, y_pred_test_xgb) * 100)\n",
    "print(\"Classification Report:\\n\", classification_report(y_test_encoded, y_pred_test_xgb))\n"
   ]
  },
  {
   "cell_type": "markdown",
   "id": "5ede54e3-0ccc-488f-85da-81b4bd0c9b02",
   "metadata": {},
   "source": [
    "Note: Random Forest is the better model in this case since for the accuracy metric, Random Forest gained 91% while XGBoost got 88%, a small margin, but it's still better. Accuracy shows the percentage of total correct predictions. For the Canceled Label/Class, Random Forest still performs better on all metrics, just like Precision, Recall, and F1 Score, indicating that the model is consistent. Overall, the differences aren’t massive, but enough to justify using RF as the better model in this case."
   ]
  },
  {
   "cell_type": "code",
   "execution_count": 16,
   "id": "c71fc9f1-912e-4d5a-9eaf-1cccca6454b0",
   "metadata": {},
   "outputs": [
    {
     "name": "stdout",
     "output_type": "stream",
     "text": [
      "Column 'Booking_ID': Max = INN36275, Min = INN00001\n",
      "Column 'no_of_adults': Max = 4, Min = 0\n",
      "Column 'no_of_children': Max = 10, Min = 0\n",
      "Column 'no_of_weekend_nights': Max = 7, Min = 0\n",
      "Column 'no_of_week_nights': Max = 17, Min = 0\n",
      "Column 'type_of_meal_plan': Max = Not Selected, Min = Meal Plan 1\n",
      "Column 'required_car_parking_space': Max = 1.0, Min = 0.0\n",
      "Column 'room_type_reserved': Max = Room_Type 7, Min = Room_Type 1\n",
      "Column 'lead_time': Max = 443, Min = 0\n",
      "Column 'arrival_year': Max = 2018, Min = 2017\n",
      "Column 'arrival_month': Max = 12, Min = 1\n",
      "Column 'arrival_date': Max = 31, Min = 1\n",
      "Column 'market_segment_type': Max = Online, Min = Aviation\n",
      "Column 'repeated_guest': Max = 1, Min = 0\n",
      "Column 'no_of_previous_cancellations': Max = 13, Min = 0\n",
      "Column 'no_of_previous_bookings_not_canceled': Max = 58, Min = 0\n",
      "Column 'avg_price_per_room': Max = 540.0, Min = 0.0\n",
      "Column 'no_of_special_requests': Max = 5, Min = 0\n",
      "Column 'booking_status': Max = Not_Canceled, Min = Canceled\n"
     ]
    }
   ],
   "source": [
    "for col in data.columns:\n",
    "    max_val = data[col].max()\n",
    "    min_val = data[col].min()\n",
    "    print(f\"Column '{col}': Max = {max_val}, Min = {min_val}\")"
   ]
  },
  {
   "cell_type": "markdown",
   "id": "85fe6c1f-b939-4ef8-ada5-dc461835bc56",
   "metadata": {},
   "source": [
    "Note: The code above is later used in for the Streamlit Deployment"
   ]
  },
  {
   "cell_type": "code",
   "execution_count": 18,
   "id": "435b4763-1ceb-4de9-ad21-0e8bf5a38440",
   "metadata": {},
   "outputs": [
    {
     "data": {
      "text/plain": [
       "['hotel_booking_model_project/best_model.pkl']"
      ]
     },
     "execution_count": 18,
     "metadata": {},
     "output_type": "execute_result"
    }
   ],
   "source": [
    "import joblib\n",
    "joblib.dump((rf, ohe, le), 'hotel_booking_model_project/best_model.pkl', compress=3)"
   ]
  }
 ],
 "metadata": {
  "kernelspec": {
   "display_name": "Python mlops",
   "language": "python",
   "name": "mlops"
  },
  "language_info": {
   "codemirror_mode": {
    "name": "ipython",
    "version": 3
   },
   "file_extension": ".py",
   "mimetype": "text/x-python",
   "name": "python",
   "nbconvert_exporter": "python",
   "pygments_lexer": "ipython3",
   "version": "3.11.11"
  }
 },
 "nbformat": 4,
 "nbformat_minor": 5
}
